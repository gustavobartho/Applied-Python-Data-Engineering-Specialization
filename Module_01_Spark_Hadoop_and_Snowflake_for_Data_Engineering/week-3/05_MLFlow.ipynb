{
 "cells": [
  {
   "cell_type": "markdown",
   "metadata": {},
   "source": [
    "MLflow is a versatile, expandable, open-source platform for managing workflows and artifacts across the machine learning lifecycle."
   ]
  },
  {
   "cell_type": "code",
   "execution_count": 1,
   "metadata": {},
   "outputs": [],
   "source": [
    "import numpy as np\n",
    "from sklearn.datasets import make_classification\n",
    "from sklearn.model_selection import train_test_split\n",
    "from sklearn.linear_model import LogisticRegression\n",
    "from sklearn.ensemble import RandomForestClassifier\n",
    "from xgboost import XGBClassifier\n",
    "from sklearn.metrics import classification_report\n",
    "import warnings\n",
    "warnings.filterwarnings('ignore')"
   ]
  },
  {
   "cell_type": "code",
   "execution_count": 2,
   "metadata": {},
   "outputs": [
    {
     "name": "stdout",
     "output_type": "stream",
     "text": [
      "(array([0, 1]), array([900, 100]))\n"
     ]
    }
   ],
   "source": [
    "# Step 1: Create imbalanced binary classification dataset\n",
    "X, y = make_classification(\n",
    "    n_samples=1000, n_features=10, n_informative=2, \n",
    "    n_redundant=8, weights=[.9, .1], flip_y=0, random_state=42\n",
    ")\n",
    "\n",
    "print(np.unique(y, return_counts=True))\n",
    "\n",
    "# split the dataset in train and test\n",
    "X_train, X_test, y_train, y_test = train_test_split(X, y, test_size=.3, stratify=y, random_state=42)"
   ]
  },
  {
   "cell_type": "code",
   "execution_count": 3,
   "metadata": {},
   "outputs": [
    {
     "name": "stdout",
     "output_type": "stream",
     "text": [
      "              precision    recall  f1-score   support\n",
      "\n",
      "           0       0.95      0.97      0.96       270\n",
      "           1       0.62      0.50      0.56        30\n",
      "\n",
      "    accuracy                           0.92       300\n",
      "   macro avg       0.79      0.73      0.76       300\n",
      "weighted avg       0.91      0.92      0.92       300\n",
      "\n"
     ]
    }
   ],
   "source": [
    "# Define model hyperparameters\n",
    "params = {\n",
    "    'solver': 'lbfgs',\n",
    "    'max_iter': 1000,\n",
    "    'multi_class': 'auto',\n",
    "    'random_state': 42,\n",
    "}\n",
    "\n",
    "# train model\n",
    "lr = LogisticRegression(**params, )\n",
    "lr.fit(X_train, y_train)\n",
    "\n",
    "# predict on test dataset\n",
    "y_pred = lr.predict(X_test)\n",
    "\n",
    "report = classification_report(y_test, y_pred)\n",
    "print(report)"
   ]
  },
  {
   "cell_type": "code",
   "execution_count": 4,
   "metadata": {},
   "outputs": [
    {
     "data": {
      "text/plain": [
       "{'0': {'precision': 0.9456521739130435,\n",
       "  'recall': 0.9666666666666667,\n",
       "  'f1-score': 0.9560439560439561,\n",
       "  'support': 270.0},\n",
       " '1': {'precision': 0.625,\n",
       "  'recall': 0.5,\n",
       "  'f1-score': 0.5555555555555556,\n",
       "  'support': 30.0},\n",
       " 'accuracy': 0.92,\n",
       " 'macro avg': {'precision': 0.7853260869565217,\n",
       "  'recall': 0.7333333333333334,\n",
       "  'f1-score': 0.7557997557997558,\n",
       "  'support': 300.0},\n",
       " 'weighted avg': {'precision': 0.9135869565217392,\n",
       "  'recall': 0.92,\n",
       "  'f1-score': 0.9159951159951161,\n",
       "  'support': 300.0}}"
      ]
     },
     "execution_count": 4,
     "metadata": {},
     "output_type": "execute_result"
    }
   ],
   "source": [
    "report_dict = classification_report(y_test, y_pred, output_dict=True)\n",
    "report_dict"
   ]
  },
  {
   "cell_type": "code",
   "execution_count": 5,
   "metadata": {},
   "outputs": [
    {
     "name": "stderr",
     "output_type": "stream",
     "text": [
      "2024/09/21 12:28:37 INFO mlflow.tracking.fluent: Experiment with name 'test exp' does not exist. Creating a new experiment.\n",
      "2024/09/21 12:28:41 WARNING mlflow.models.model: Model logged without a signature and input example. Please set `input_example` parameter when logging the model to auto infer the model signature.\n",
      "2024/09/21 12:28:41 INFO mlflow.tracking._tracking_service.client: 🏃 View run experiment logreg 1 at: http://127.0.0.1:5000/#/experiments/134716432819852541/runs/7626f93b87254dbaa166c06d71ae6edb.\n",
      "2024/09/21 12:28:41 INFO mlflow.tracking._tracking_service.client: 🧪 View experiment at: http://127.0.0.1:5000/#/experiments/134716432819852541.\n"
     ]
    }
   ],
   "source": [
    "import mlflow\n",
    "\n",
    "mlflow.set_experiment('test exp')\n",
    "mlflow.set_tracking_uri('http://127.0.0.1:5000/')\n",
    "\n",
    "with mlflow.start_run(run_name='experiment logreg 1'):\n",
    "    mlflow.log_params(params)\n",
    "    mlflow.log_metrics({\n",
    "        'accuracy': report_dict['accuracy'],\n",
    "        'recall_class_0': report_dict['0']['recall'],\n",
    "        'recall_class_1': report_dict['1']['recall'],\n",
    "        'f1_score_macro': report_dict['macro avg']['f1-score']\n",
    "    })\n",
    "    mlflow.sklearn.log_model(lr, 'Logistic Regression')"
   ]
  },
  {
   "cell_type": "markdown",
   "metadata": {},
   "source": [
    "To access the experiment open the terminal in the same folder the `mlruns` folder is and run `mlflow ui`"
   ]
  },
  {
   "cell_type": "code",
   "execution_count": 6,
   "metadata": {},
   "outputs": [
    {
     "name": "stdout",
     "output_type": "stream",
     "text": [
      "              precision    recall  f1-score   support\n",
      "\n",
      "           0       0.95      0.96      0.95       270\n",
      "           1       0.60      0.50      0.55        30\n",
      "\n",
      "    accuracy                           0.92       300\n",
      "   macro avg       0.77      0.73      0.75       300\n",
      "weighted avg       0.91      0.92      0.91       300\n",
      "\n"
     ]
    }
   ],
   "source": [
    "# Experiment 1 - Linear Regression\n",
    "log_reg = LogisticRegression(C=1, solver='liblinear')\n",
    "log_reg.fit(X_train, y_train)\n",
    "y_pred_log_reg = log_reg.predict(X_test)\n",
    "print(classification_report(y_test, y_pred_log_reg))"
   ]
  },
  {
   "cell_type": "code",
   "execution_count": 7,
   "metadata": {},
   "outputs": [
    {
     "name": "stdout",
     "output_type": "stream",
     "text": [
      "              precision    recall  f1-score   support\n",
      "\n",
      "           0       0.97      1.00      0.98       270\n",
      "           1       0.95      0.70      0.81        30\n",
      "\n",
      "    accuracy                           0.97       300\n",
      "   macro avg       0.96      0.85      0.89       300\n",
      "weighted avg       0.97      0.97      0.96       300\n",
      "\n"
     ]
    }
   ],
   "source": [
    "# Experiment 2 - Random Forest Classifier\n",
    "rf_clf = RandomForestClassifier(n_estimators=30, max_depth=3)\n",
    "rf_clf.fit(X_train, y_train)\n",
    "y_pred_rf_clf = rf_clf.predict(X_test)\n",
    "print(classification_report(y_test, y_pred_rf_clf))"
   ]
  },
  {
   "cell_type": "code",
   "execution_count": 8,
   "metadata": {},
   "outputs": [
    {
     "name": "stdout",
     "output_type": "stream",
     "text": [
      "              precision    recall  f1-score   support\n",
      "\n",
      "           0       0.98      1.00      0.99       270\n",
      "           1       0.96      0.80      0.87        30\n",
      "\n",
      "    accuracy                           0.98       300\n",
      "   macro avg       0.97      0.90      0.93       300\n",
      "weighted avg       0.98      0.98      0.98       300\n",
      "\n"
     ]
    }
   ],
   "source": [
    "# Experiment 3 - XGBoost\n",
    "xgb_clf = XGBClassifier(use_label_encoder=False, eval_metric='logloss')\n",
    "xgb_clf.fit(X_train, y_train)\n",
    "y_pred_xgb_clf = xgb_clf.predict(X_test)\n",
    "print(classification_report(y_test, y_pred_xgb_clf))"
   ]
  },
  {
   "cell_type": "code",
   "execution_count": 9,
   "metadata": {},
   "outputs": [
    {
     "name": "stdout",
     "output_type": "stream",
     "text": [
      "(array([0, 1]), array([619, 619]))\n",
      "              precision    recall  f1-score   support\n",
      "\n",
      "           0       0.98      0.98      0.98       270\n",
      "           1       0.81      0.83      0.82        30\n",
      "\n",
      "    accuracy                           0.96       300\n",
      "   macro avg       0.89      0.91      0.90       300\n",
      "weighted avg       0.96      0.96      0.96       300\n",
      "\n"
     ]
    }
   ],
   "source": [
    "# Experiment 4 - Handle class imbalance using SMOTETomek and then train XGBoost\n",
    "from imblearn.combine import SMOTETomek\n",
    "\n",
    "smt = SMOTETomek(random_state=42)\n",
    "X_train_res, y_train_res = smt.fit_resample(X_train, y_train)\n",
    "\n",
    "print(np.unique(y_train_res, return_counts=True))\n",
    "\n",
    "xgb_clf = XGBClassifier(use_label_encoder=False, eval_metric='logloss')\n",
    "xgb_clf.fit(X_train_res, y_train_res)\n",
    "y_pred_xgb = xgb_clf.predict(X_test)\n",
    "print(classification_report(y_test, y_pred_xgb))"
   ]
  },
  {
   "cell_type": "code",
   "execution_count": 10,
   "metadata": {},
   "outputs": [
    {
     "data": {
      "text/plain": [
       "[{'0': {'precision': 0.9454545454545454,\n",
       "   'recall': 0.9629629629629629,\n",
       "   'f1-score': 0.9541284403669725,\n",
       "   'support': 270.0},\n",
       "  '1': {'precision': 0.6,\n",
       "   'recall': 0.5,\n",
       "   'f1-score': 0.5454545454545454,\n",
       "   'support': 30.0},\n",
       "  'accuracy': 0.9166666666666666,\n",
       "  'macro avg': {'precision': 0.7727272727272727,\n",
       "   'recall': 0.7314814814814814,\n",
       "   'f1-score': 0.749791492910759,\n",
       "   'support': 300.0},\n",
       "  'weighted avg': {'precision': 0.9109090909090909,\n",
       "   'recall': 0.9166666666666666,\n",
       "   'f1-score': 0.91326105087573,\n",
       "   'support': 300.0}},\n",
       " {'0': {'precision': 0.9676258992805755,\n",
       "   'recall': 0.9962962962962963,\n",
       "   'f1-score': 0.9817518248175182,\n",
       "   'support': 270.0},\n",
       "  '1': {'precision': 0.9545454545454546,\n",
       "   'recall': 0.7,\n",
       "   'f1-score': 0.8076923076923077,\n",
       "   'support': 30.0},\n",
       "  'accuracy': 0.9666666666666667,\n",
       "  'macro avg': {'precision': 0.961085676913015,\n",
       "   'recall': 0.8481481481481481,\n",
       "   'f1-score': 0.8947220662549129,\n",
       "   'support': 300.0},\n",
       "  'weighted avg': {'precision': 0.9663178548070633,\n",
       "   'recall': 0.9666666666666667,\n",
       "   'f1-score': 0.9643458731049971,\n",
       "   'support': 300.0}},\n",
       " {'0': {'precision': 0.9781818181818182,\n",
       "   'recall': 0.9962962962962963,\n",
       "   'f1-score': 0.9871559633027523,\n",
       "   'support': 270.0},\n",
       "  '1': {'precision': 0.96,\n",
       "   'recall': 0.8,\n",
       "   'f1-score': 0.8727272727272727,\n",
       "   'support': 30.0},\n",
       "  'accuracy': 0.9766666666666667,\n",
       "  'macro avg': {'precision': 0.969090909090909,\n",
       "   'recall': 0.8981481481481481,\n",
       "   'f1-score': 0.9299416180150125,\n",
       "   'support': 300.0},\n",
       "  'weighted avg': {'precision': 0.9763636363636364,\n",
       "   'recall': 0.9766666666666667,\n",
       "   'f1-score': 0.9757130942452044,\n",
       "   'support': 300.0}},\n",
       " {'0': {'precision': 0.9814126394052045,\n",
       "   'recall': 0.9777777777777777,\n",
       "   'f1-score': 0.9795918367346939,\n",
       "   'support': 270.0},\n",
       "  '1': {'precision': 0.8064516129032258,\n",
       "   'recall': 0.8333333333333334,\n",
       "   'f1-score': 0.819672131147541,\n",
       "   'support': 30.0},\n",
       "  'accuracy': 0.9633333333333334,\n",
       "  'macro avg': {'precision': 0.8939321261542151,\n",
       "   'recall': 0.9055555555555556,\n",
       "   'f1-score': 0.8996319839411174,\n",
       "   'support': 300.0},\n",
       "  'weighted avg': {'precision': 0.9639165367550067,\n",
       "   'recall': 0.9633333333333334,\n",
       "   'f1-score': 0.9635998661759786,\n",
       "   'support': 300.0}}]"
      ]
     },
     "execution_count": 10,
     "metadata": {},
     "output_type": "execute_result"
    }
   ],
   "source": [
    "# Track experiments using MLFlow\n",
    "models = [\n",
    "    (\n",
    "        'Logistic Regression',\n",
    "        {'C': 1, 'solver': 'liblinear'},\n",
    "        LogisticRegression(),\n",
    "        (X_train, y_train),\n",
    "        (X_test, y_test),\n",
    "    ),\n",
    "    (\n",
    "        'Random Forest',\n",
    "        {'n_estimators': 30, 'max_depth': 3},\n",
    "        RandomForestClassifier(),\n",
    "        (X_train, y_train),\n",
    "        (X_test, y_test),\n",
    "    ),\n",
    "    (\n",
    "        'XGBoost Classifier',\n",
    "        {'use_label_encoder': False, 'eval_metric': 'logloss'},\n",
    "        XGBClassifier(),\n",
    "        (X_train, y_train),\n",
    "        (X_test, y_test),\n",
    "    ),\n",
    "    (\n",
    "        'XGBoost Classifier with SMOTE',\n",
    "        {'use_label_encoder': False, 'eval_metric': 'logloss'},\n",
    "        XGBClassifier(),\n",
    "        (X_train_res, y_train_res),\n",
    "        (X_test, y_test),\n",
    "    )\n",
    "]\n",
    "\n",
    "reports = []\n",
    "for model_name, params, model, train_set, test_set in models:\n",
    "    X_test, y_test = test_set\n",
    "\n",
    "    model.set_params(**params)\n",
    "    model.fit(*train_set)\n",
    "    y_pred = model.predict(X_test)\n",
    "    report = classification_report(y_test, y_pred, output_dict=True)\n",
    "    reports.append(report)\n",
    "\n",
    "reports"
   ]
  },
  {
   "cell_type": "code",
   "execution_count": 11,
   "metadata": {},
   "outputs": [
    {
     "name": "stderr",
     "output_type": "stream",
     "text": [
      "2024/09/21 12:28:43 INFO mlflow.tracking.fluent: Experiment with name 'Anomaly Detection' does not exist. Creating a new experiment.\n",
      "2024/09/21 12:28:46 WARNING mlflow.models.model: Model logged without a signature and input example. Please set `input_example` parameter when logging the model to auto infer the model signature.\n",
      "2024/09/21 12:28:46 INFO mlflow.tracking._tracking_service.client: 🏃 View run Logistic Regression at: http://127.0.0.1:5000/#/experiments/686724081783997741/runs/7bc2c832acbd4a118ecde9ebe90d95c5.\n",
      "2024/09/21 12:28:46 INFO mlflow.tracking._tracking_service.client: 🧪 View experiment at: http://127.0.0.1:5000/#/experiments/686724081783997741.\n",
      "2024/09/21 12:28:49 WARNING mlflow.models.model: Model logged without a signature and input example. Please set `input_example` parameter when logging the model to auto infer the model signature.\n",
      "2024/09/21 12:28:49 INFO mlflow.tracking._tracking_service.client: 🏃 View run Random Forest at: http://127.0.0.1:5000/#/experiments/686724081783997741/runs/7b92be17a5bb4e90bf6aa2a6dd8485b2.\n",
      "2024/09/21 12:28:49 INFO mlflow.tracking._tracking_service.client: 🧪 View experiment at: http://127.0.0.1:5000/#/experiments/686724081783997741.\n",
      "2024/09/21 12:28:51 WARNING mlflow.models.model: Model logged without a signature and input example. Please set `input_example` parameter when logging the model to auto infer the model signature.\n",
      "2024/09/21 12:28:51 INFO mlflow.tracking._tracking_service.client: 🏃 View run XGBoost Classifier at: http://127.0.0.1:5000/#/experiments/686724081783997741/runs/f9247738edac4ab493af0e80bc3eab13.\n",
      "2024/09/21 12:28:51 INFO mlflow.tracking._tracking_service.client: 🧪 View experiment at: http://127.0.0.1:5000/#/experiments/686724081783997741.\n",
      "2024/09/21 12:28:54 WARNING mlflow.models.model: Model logged without a signature and input example. Please set `input_example` parameter when logging the model to auto infer the model signature.\n",
      "2024/09/21 12:28:54 INFO mlflow.tracking._tracking_service.client: 🏃 View run XGBoost Classifier with SMOTE at: http://127.0.0.1:5000/#/experiments/686724081783997741/runs/c918f3eba0ae4469b74f1b79fac169d0.\n",
      "2024/09/21 12:28:54 INFO mlflow.tracking._tracking_service.client: 🧪 View experiment at: http://127.0.0.1:5000/#/experiments/686724081783997741.\n"
     ]
    }
   ],
   "source": [
    "mlflow.set_experiment(\"Anomaly Detection\")\n",
    "mlflow.set_tracking_uri('http://127.0.0.1:5000/')\n",
    "\n",
    "for i, element in enumerate(models):\n",
    "    model_name = element[0]\n",
    "    params = element[1]\n",
    "    model = element[2]\n",
    "    report = reports[i]\n",
    "\n",
    "    with mlflow.start_run(run_name = model_name):\n",
    "        mlflow.log_params(params)\n",
    "        mlflow.log_metrics({\n",
    "            'accuracy': report['accuracy'],\n",
    "            'recall_class_0': report['0']['recall'],\n",
    "            'recall_class_1': report['1']['recall'],\n",
    "            'f1_score_macro': report['macro avg']['f1-score']\n",
    "        })\n",
    "        \n",
    "        if 'XGB' in model_name:\n",
    "            mlflow.xgboost.log_model(model, 'model')\n",
    "        else:\n",
    "            mlflow.sklearn.log_model(model, 'model')"
   ]
  },
  {
   "cell_type": "code",
   "execution_count": 13,
   "metadata": {},
   "outputs": [
    {
     "name": "stderr",
     "output_type": "stream",
     "text": [
      "Successfully registered model 'XGB-Smote'.\n",
      "2024/09/21 12:31:56 INFO mlflow.store.model_registry.abstract_store: Waiting up to 300 seconds for model version to finish creation. Model name: XGB-Smote, version 1\n",
      "Created version '1' of model 'XGB-Smote'.\n"
     ]
    }
   ],
   "source": [
    "# Register the model\n",
    "model_name = 'XGB-Smote'\n",
    "run_id = input(\"Enter run ID:\")\n",
    "model_uri = f\"runs:/{run_id}/model\"\n",
    "\n",
    "result = mlflow.register_model(\n",
    "    model_uri, model_name\n",
    ")"
   ]
  },
  {
   "cell_type": "code",
   "execution_count": 14,
   "metadata": {},
   "outputs": [
    {
     "data": {
      "text/plain": [
       "array([0, 0, 0, 0])"
      ]
     },
     "execution_count": 14,
     "metadata": {},
     "output_type": "execute_result"
    }
   ],
   "source": [
    "# Load model\n",
    "model_name = 'XGB-Smote'\n",
    "model_version = 1\n",
    "model_uri = f'models:/{model_name}/{model_version}'\n",
    "\n",
    "loaded_model = mlflow.xgboost.load_model(model_uri)\n",
    "y_pred = loaded_model.predict(X_test) \n",
    "y_pred[:4]"
   ]
  }
 ],
 "metadata": {
  "kernelspec": {
   "display_name": "data-eng",
   "language": "python",
   "name": "python3"
  },
  "language_info": {
   "codemirror_mode": {
    "name": "ipython",
    "version": 3
   },
   "file_extension": ".py",
   "mimetype": "text/x-python",
   "name": "python",
   "nbconvert_exporter": "python",
   "pygments_lexer": "ipython3",
   "version": "3.12.3"
  }
 },
 "nbformat": 4,
 "nbformat_minor": 2
}
