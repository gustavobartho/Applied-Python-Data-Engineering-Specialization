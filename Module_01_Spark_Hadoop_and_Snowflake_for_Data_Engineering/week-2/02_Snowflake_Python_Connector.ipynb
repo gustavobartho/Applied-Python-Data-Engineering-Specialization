{
 "cells": [
  {
   "cell_type": "code",
   "execution_count": null,
   "metadata": {},
   "outputs": [],
   "source": [
    "import os\n",
    "\n",
    "import snowflake.connector\n",
    "from snowflake.connector.pandas_tools import write_pandas\n",
    "\n",
    "import pandas as pd"
   ]
  },
  {
   "cell_type": "code",
   "execution_count": null,
   "metadata": {},
   "outputs": [],
   "source": [
    "sf_account_id = 'CU71622'\n",
    "sf_password = '123456Carne'\n",
    "sf_login = 'dimeno157'\n",
    "\n",
    "database_name = 'TEST_DATABASE'\n",
    "schema_name = 'DEV'\n",
    "table_name = 'ACCOUNTS'"
   ]
  },
  {
   "cell_type": "code",
   "execution_count": null,
   "metadata": {},
   "outputs": [],
   "source": [
    "df = pd.read_csv('../data/accounts.csv')\n",
    "df.columns = [x.upper() for x in df.columns]\n",
    "df.head()"
   ]
  },
  {
   "cell_type": "code",
   "execution_count": null,
   "metadata": {},
   "outputs": [],
   "source": [
    "# Make connection to snowflake\n",
    "cnx = snowflake.connector.connect(\n",
    "    user = sf_login,\n",
    "    password = sf_password,\n",
    "    account = sf_account_id,\n",
    "    database = database_name,\n",
    "    schema = schema_name,\n",
    "    warehouse = 'TEST_WAREHOUSE',\n",
    "    role = 'ACCOUNTADMIN'\n",
    ")\n",
    "\n",
    "cs = cnx.cursor()\n",
    "\n",
    "table_path = f'{database_name}.{schema_name}.{table_name}'"
   ]
  },
  {
   "cell_type": "code",
   "execution_count": null,
   "metadata": {},
   "outputs": [],
   "source": [
    "# Ceate a table\n",
    "create_table = f'''\n",
    "    CREATE OR REPLACE TABLE {table_path} (\n",
    "        account_number varchar(99999),\n",
    "        aba int,\n",
    "        bic varchar(99999),\n",
    "        opened varchar(99999),\n",
    "        balance int\n",
    "    ) \n",
    "'''\n",
    "cs.execute(create_table)"
   ]
  },
  {
   "cell_type": "code",
   "execution_count": null,
   "metadata": {},
   "outputs": [],
   "source": [
    "# Write on table\n",
    "write_pandas(cnx, df, table_name=table_name)"
   ]
  },
  {
   "cell_type": "code",
   "execution_count": null,
   "metadata": {},
   "outputs": [],
   "source": [
    "# SQL query table\n",
    "cs.execute(f'''\n",
    "    SELECT ACCOUNT_NUMBER, OPENED \n",
    "    FROM {table_path} \n",
    "    LIMIT 10;\n",
    "''')\n",
    "rows = cs.fetchall()\n",
    "for row in rows:\n",
    "    print(row)"
   ]
  },
  {
   "cell_type": "code",
   "execution_count": null,
   "metadata": {},
   "outputs": [],
   "source": [
    "# Dataframe from snowflake\n",
    "sql = '''SELECT * FROM ACCOUNTS;'''\n",
    "cs.execute(sql)\n",
    "\n",
    "df_from_df = cs.fetch_pandas_all()\n",
    "df_from_df.head()"
   ]
  },
  {
   "cell_type": "code",
   "execution_count": null,
   "metadata": {},
   "outputs": [],
   "source": [
    "cs.close()\n",
    "cnx.close()"
   ]
  }
 ],
 "metadata": {
  "kernelspec": {
   "display_name": "data-eng",
   "language": "python",
   "name": "python3"
  },
  "language_info": {
   "codemirror_mode": {
    "name": "ipython",
    "version": 3
   },
   "file_extension": ".py",
   "mimetype": "text/x-python",
   "name": "python",
   "nbconvert_exporter": "python",
   "pygments_lexer": "ipython3",
   "version": "3.12.3"
  }
 },
 "nbformat": 4,
 "nbformat_minor": 2
}
